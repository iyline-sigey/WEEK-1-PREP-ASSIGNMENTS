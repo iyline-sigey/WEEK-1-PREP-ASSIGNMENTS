{
  "nbformat": 4,
  "nbformat_minor": 0,
  "metadata": {
    "colab": {
      "name": "Tuesday assignment SQL Programming - Getting Started with Databases",
      "provenance": [],
      "collapsed_sections": [
        "_D8JbTh02GDA",
        "D6BU_C0d3dMo",
        "TjMtC5JN7ZoI",
        "oxISLcTfPSqn",
        "tsDIChSD7eZA",
        "LMP7zZY2dGuV",
        "ASFyzyDc9hth",
        "Xr_iw9O1gynX",
        "fbqK98Ve9qUw",
        "f20THWRqhJC-",
        "N5323tiC9u5B",
        "Lyy1XQCy_rIm",
        "018guVdKDwnu",
        "hK3Aff9bhkkE"
      ],
      "toc_visible": true
    },
    "kernelspec": {
      "name": "python3",
      "display_name": "Python 3"
    }
  },
  "cells": [
    {
      "cell_type": "markdown",
      "metadata": {
        "id": "tRHyN7N81xCS"
      },
      "source": [
        "<font color=\"green\">*To start working on this notebook, or any other notebook that we will use in the Moringa Data Science Course, we will need to save our own copy of it. We can do this by clicking File > Save a Copy in Drive. We will then be able to make edits to our own copy of this notebook.*</font> \n",
        "\n"
      ]
    },
    {
      "cell_type": "markdown",
      "metadata": {
        "id": "_brgSPnC2ClB"
      },
      "source": [
        "# SQL Programming - Getting Started with Databases"
      ]
    },
    {
      "cell_type": "markdown",
      "metadata": {
        "id": "_D8JbTh02GDA"
      },
      "source": [
        "## 1.1 Overview "
      ]
    },
    {
      "cell_type": "markdown",
      "metadata": {
        "id": "ueOY-njw3bzC"
      },
      "source": [
        "Structured Query Language (SQL) is the language that is used to store, manipulate and retrieve data from many databases. It is the standard language for many relational database management systems which are a type of databases used by organisations across the world. These type of relational database management systems are used to store data in tables and examples of such include SQLite, MySQL, Postgres, Oracle etc. \n",
        "\n",
        "During the Moringa DataScience Prep, we will learn about SQL since as Data Scientists, we may be required to interact with this data through the use of SQL.\n",
        "\n",
        "In this notebook, we will use SQL to learn how tables in databases are created. More specifically, we will learn how the structure of tables is defined which is critical in determining the quality of data. The better the structure, the easier it becomes to clean data."
      ]
    },
    {
      "cell_type": "markdown",
      "metadata": {
        "id": "D6BU_C0d3dMo"
      },
      "source": [
        "## 1.2 Connecting to our Database"
      ]
    },
    {
      "cell_type": "code",
      "metadata": {
        "id": "PDk968tq3v43",
        "colab": {
          "base_uri": "https://localhost:8080/",
          "height": 35
        },
        "outputId": "5bb531de-7c4c-4930-c88b-df337b759170"
      },
      "source": [
        "# We will first load an sql extension into our environment\n",
        "# This extension will allow us to work with sql on Colaboratory\n",
        "#\n",
        "%load_ext sql\n",
        "\n",
        "# We will then connect to our in memory sqlite database\n",
        "# NB: This database will cease to exist as soon as the database connection is closed.\n",
        "# We will learn more about how databases are created later in prep.\n",
        "#\n",
        "%sql sqlite://"
      ],
      "execution_count": null,
      "outputs": [
        {
          "output_type": "execute_result",
          "data": {
            "application/vnd.google.colaboratory.intrinsic+json": {
              "type": "string"
            },
            "text/plain": [
              "'Connected: @None'"
            ]
          },
          "metadata": {
            "tags": []
          },
          "execution_count": 7
        }
      ]
    },
    {
      "cell_type": "markdown",
      "metadata": {
        "id": "TjMtC5JN7ZoI"
      },
      "source": [
        "## 1.3 Creating a Table"
      ]
    },
    {
      "cell_type": "code",
      "metadata": {
        "id": "ee0bJxIKPQvK",
        "colab": {
          "base_uri": "https://localhost:8080/",
          "height": 92
        },
        "outputId": "a2727739-590d-4c83-ad28-0f34d63043a4"
      },
      "source": [
        "# Example 1\n",
        "# We will now define and create a table Classmates in our database (if it doesn't exist).\n",
        "# This table will have fields: PersonID, LastName, FirstName, Phone and Residence as shown below.\n",
        "# We will then fetch all records from the table.\n",
        "#\n",
        "%%sql \n",
        "CREATE TABLE if not exists Classmates (\n",
        "    PersonID, \n",
        "    LastName, \n",
        "    FirstName, \n",
        "    Phone, \n",
        "    Residence\n",
        "); \n",
        "\n",
        "SELECT * From Classmates;"
      ],
      "execution_count": null,
      "outputs": [
        {
          "output_type": "stream",
          "text": [
            " * sqlite://\n",
            "Done.\n",
            "Done.\n"
          ],
          "name": "stdout"
        },
        {
          "output_type": "execute_result",
          "data": {
            "text/html": [
              "<table>\n",
              "    <thead>\n",
              "        <tr>\n",
              "            <th>PersonID</th>\n",
              "            <th>LastName</th>\n",
              "            <th>FirstName</th>\n",
              "            <th>Phone</th>\n",
              "            <th>Residence</th>\n",
              "        </tr>\n",
              "    </thead>\n",
              "    <tbody>\n",
              "    </tbody>\n",
              "</table>"
            ],
            "text/plain": [
              "[]"
            ]
          },
          "metadata": {
            "tags": []
          },
          "execution_count": 15
        }
      ]
    },
    {
      "cell_type": "code",
      "metadata": {
        "id": "a5-4ih-ea37Z",
        "colab": {
          "base_uri": "https://localhost:8080/",
          "height": 92
        },
        "outputId": "e2b47b08-9827-4b4c-fcc5-807a176ecbef"
      },
      "source": [
        "# Example 2\n",
        "# In this example, we will create a table named Customers \n",
        "# with the columns Id, Name, Age, Address, Salary. \n",
        "# This kind of a table structure can be used by Sacco Management system.\n",
        "# Then later fetch all records in the table.\n",
        "# \n",
        "%%sql\n",
        "CREATE TABLE if not exists Customers(\n",
        "   Id,   \n",
        "   Name,  \n",
        "   Age,\n",
        "   Address,  \n",
        "   Salary\n",
        ");\n",
        "\n",
        "SELECT * From Customers;"
      ],
      "execution_count": null,
      "outputs": [
        {
          "output_type": "stream",
          "text": [
            " * sqlite://\n",
            "Done.\n",
            "Done.\n"
          ],
          "name": "stdout"
        },
        {
          "output_type": "execute_result",
          "data": {
            "text/html": [
              "<table>\n",
              "    <thead>\n",
              "        <tr>\n",
              "            <th>Id</th>\n",
              "            <th>Name</th>\n",
              "            <th>Age</th>\n",
              "            <th>Address</th>\n",
              "            <th>Salary</th>\n",
              "        </tr>\n",
              "    </thead>\n",
              "    <tbody>\n",
              "    </tbody>\n",
              "</table>"
            ],
            "text/plain": [
              "[]"
            ]
          },
          "metadata": {
            "tags": []
          },
          "execution_count": 10
        }
      ]
    },
    {
      "cell_type": "code",
      "metadata": {
        "id": "0FmFgfaTbZO6",
        "colab": {
          "base_uri": "https://localhost:8080/",
          "height": 92
        },
        "outputId": "de7da92d-8de3-465e-c846-b43871416703"
      },
      "source": [
        "# Example 3\n",
        "# In this example, we will create a Students table for a student management system.\n",
        "# This will contain the following fields,\n",
        "# AdmissionsNo, FirstName, MiddleName, LastName, DateOfBirth and DateOfAdmission.\n",
        "# Then fetch all records from Students table.\n",
        "#\n",
        "%%sql\n",
        "CREATE TABLE if not exists Students(\n",
        "    AdmissionsNo,\n",
        "    FirstName,\n",
        "    MiddleName,\n",
        "    LastName,\n",
        "    DateOfBirth,\n",
        "    DateOfAdmission\n",
        ");\n",
        "\n",
        " \n",
        "SELECT * from Students;"
      ],
      "execution_count": null,
      "outputs": [
        {
          "output_type": "stream",
          "text": [
            " * sqlite://\n",
            "Done.\n",
            "Done.\n"
          ],
          "name": "stdout"
        },
        {
          "output_type": "execute_result",
          "data": {
            "text/html": [
              "<table>\n",
              "    <thead>\n",
              "        <tr>\n",
              "            <th>AdmissionsNo</th>\n",
              "            <th>FirstName</th>\n",
              "            <th>MiddleName</th>\n",
              "            <th>LastName</th>\n",
              "            <th>DateOfBirth</th>\n",
              "            <th>DateOfAdmission</th>\n",
              "        </tr>\n",
              "    </thead>\n",
              "    <tbody>\n",
              "    </tbody>\n",
              "</table>"
            ],
            "text/plain": [
              "[]"
            ]
          },
          "metadata": {
            "tags": []
          },
          "execution_count": 11
        }
      ]
    },
    {
      "cell_type": "markdown",
      "metadata": {
        "id": "oxISLcTfPSqn"
      },
      "source": [
        "### <font color=\"green\"> 1.3 Challenges</font>"
      ]
    },
    {
      "cell_type": "code",
      "metadata": {
        "id": "SbRfVF-IPa7y",
        "colab": {
          "base_uri": "https://localhost:8080/",
          "height": 92
        },
        "outputId": "dc8d76b2-8bca-4888-b909-cf217bda29eb"
      },
      "source": [
        "# Challenge 1\n",
        "# Let us create a table name PC with the following fields; \n",
        "# Code, model, speed, RAM, HD, CD and Price.\n",
        "# We also specify the appropriate data types to our table, then display it.\n",
        "#\n",
        "%%sql\n",
        "CREATE TABLE if not exists PC(\n",
        "    Code,\n",
        "    Model,\n",
        "    Speed,\n",
        "    Ram,\n",
        "    Hd,\n",
        "    CD,\n",
        "    Price\n",
        ");\n",
        "SELECT * from PC;\n",
        "\n",
        "\n",
        "\n"
      ],
      "execution_count": null,
      "outputs": [
        {
          "output_type": "stream",
          "text": [
            " * sqlite://\n",
            "Done.\n",
            "Done.\n"
          ],
          "name": "stdout"
        },
        {
          "output_type": "execute_result",
          "data": {
            "text/html": [
              "<table>\n",
              "    <thead>\n",
              "        <tr>\n",
              "            <th>Code</th>\n",
              "            <th>Model</th>\n",
              "            <th>Speed</th>\n",
              "            <th>Ram</th>\n",
              "            <th>Hd</th>\n",
              "            <th>CD</th>\n",
              "            <th>Price</th>\n",
              "        </tr>\n",
              "    </thead>\n",
              "    <tbody>\n",
              "    </tbody>\n",
              "</table>"
            ],
            "text/plain": [
              "[]"
            ]
          },
          "metadata": {
            "tags": []
          },
          "execution_count": 13
        }
      ]
    },
    {
      "cell_type": "code",
      "metadata": {
        "id": "raslfjbEPa6h",
        "colab": {
          "base_uri": "https://localhost:8080/",
          "height": 92
        },
        "outputId": "1c7aa131-23aa-477a-e5e9-88e799c793ae"
      },
      "source": [
        "# Challenge 2\n",
        "# Let us create a table named Printer with \n",
        "# the following code, model, speed, type and Price.\n",
        "#\n",
        "%%sql\n",
        "CREATE TABLE if not exists Printer(\n",
        "    code,\n",
        "    model,\n",
        "    speed,\n",
        "    type,\n",
        "    price\n",
        ");\n",
        "SELECT * from Printer;"
      ],
      "execution_count": null,
      "outputs": [
        {
          "output_type": "stream",
          "text": [
            " * sqlite://\n",
            "Done.\n",
            "Done.\n"
          ],
          "name": "stdout"
        },
        {
          "output_type": "execute_result",
          "data": {
            "text/html": [
              "<table>\n",
              "    <thead>\n",
              "        <tr>\n",
              "            <th>code</th>\n",
              "            <th>model</th>\n",
              "            <th>speed</th>\n",
              "            <th>type</th>\n",
              "            <th>price</th>\n",
              "        </tr>\n",
              "    </thead>\n",
              "    <tbody>\n",
              "    </tbody>\n",
              "</table>"
            ],
            "text/plain": [
              "[]"
            ]
          },
          "metadata": {
            "tags": []
          },
          "execution_count": 14
        }
      ]
    },
    {
      "cell_type": "code",
      "metadata": {
        "id": "mJd7ytpJPav_",
        "colab": {
          "base_uri": "https://localhost:8080/",
          "height": 92
        },
        "outputId": "f2e1c57c-adfe-43eb-ebcc-e195a4daaef6"
      },
      "source": [
        "# Challenge 3\n",
        "# We can now write another table called Movies with the columns \n",
        "# id, title, director, year and length_minutes\n",
        "# \n",
        "%%sql\n",
        "CREATE TABLE if not exists Movies(\n",
        "    id,\n",
        "    title,\n",
        "    director,\n",
        "    year,\n",
        "    length_minutes\n",
        ");\n",
        "SELECT * from Movies;\n"
      ],
      "execution_count": null,
      "outputs": [
        {
          "output_type": "stream",
          "text": [
            " * sqlite://\n",
            "Done.\n",
            "Done.\n"
          ],
          "name": "stdout"
        },
        {
          "output_type": "execute_result",
          "data": {
            "text/html": [
              "<table>\n",
              "    <thead>\n",
              "        <tr>\n",
              "            <th>id</th>\n",
              "            <th>ttle</th>\n",
              "            <th>director</th>\n",
              "            <th>year</th>\n",
              "            <th>length_minutes</th>\n",
              "        </tr>\n",
              "    </thead>\n",
              "    <tbody>\n",
              "    </tbody>\n",
              "</table>"
            ],
            "text/plain": [
              "[]"
            ]
          },
          "metadata": {
            "tags": []
          },
          "execution_count": 19
        }
      ]
    },
    {
      "cell_type": "markdown",
      "metadata": {
        "id": "tsDIChSD7eZA"
      },
      "source": [
        "## 1.4 Specifying Column Data Types"
      ]
    },
    {
      "cell_type": "code",
      "metadata": {
        "id": "LR9UX1XnbPEJ",
        "colab": {
          "base_uri": "https://localhost:8080/",
          "height": 92
        },
        "outputId": "9eb69cc8-b5f8-48be-bbd4-23c3b8e24ebe"
      },
      "source": [
        "# Example 1\n",
        "# While defining our table, we should specify different data types. \n",
        "# These datatypes will ensure that the particular column stores only\n",
        "# records of that type i.e. The NationalID column in the defined Citizens table \n",
        "# below will only take integer values. These are values between  -2,147,483,648 to 2,147,483,647.\n",
        "# If one would require to store much smaller or bigger values than the range above then\n",
        "# they can use a different datatype i.e. tinyint or bigint.\n",
        "# The datatype varchar will hold letters and numbers upto the specified limit\n",
        "# in the brackets.\n",
        "#\n",
        "%%sql\n",
        "CREATE TABLE IF NOT EXISTS Citizens (\n",
        "    NationalID int,\n",
        "    FirstName varchar(255),\n",
        "    MiddleName varchar(255),\n",
        "    PostalAddress varchar(255),\n",
        "    Residence varchar(255));\n",
        "SELECT * from Citizens;"
      ],
      "execution_count": null,
      "outputs": [
        {
          "output_type": "stream",
          "text": [
            " * sqlite://\n",
            "Done.\n",
            "Done.\n"
          ],
          "name": "stdout"
        },
        {
          "output_type": "execute_result",
          "data": {
            "text/html": [
              "<table>\n",
              "    <thead>\n",
              "        <tr>\n",
              "            <th>NationalID</th>\n",
              "            <th>FirstName</th>\n",
              "            <th>MiddleName</th>\n",
              "            <th>PostalAddress</th>\n",
              "            <th>Residence</th>\n",
              "        </tr>\n",
              "    </thead>\n",
              "    <tbody>\n",
              "    </tbody>\n",
              "</table>"
            ],
            "text/plain": [
              "[]"
            ]
          },
          "metadata": {
            "tags": []
          },
          "execution_count": 17
        }
      ]
    },
    {
      "cell_type": "code",
      "metadata": {
        "id": "xD0OhRTmdFW5",
        "colab": {
          "base_uri": "https://localhost:8080/",
          "height": 92
        },
        "outputId": "318ec519-a496-4798-c2a1-4b6231ee9bb0"
      },
      "source": [
        "# Example 2\n",
        "# Specifying column data types will ensure that \n",
        "# the data that is stored within that table of the correct type.\n",
        "# The data type date would ensure that the data stored is in the format YYYY-MM-DD.\t\n",
        "# The data type boolean supports the storage of two values: TRUE or FALSE.\n",
        "# No other data of a different nature would be accepted to the table \n",
        "# than the one it was specified to have.\n",
        "#\n",
        "%%sql\n",
        "CREATE TABLE IF NOT EXISTS artists(\n",
        "    Artist_Id int,\n",
        "    Artist_Name varchar(60),\n",
        "    Artist_DOB date,\n",
        "    Posters_In_Stock boolean);\n",
        "\n",
        "SELECT * from artists;\n"
      ],
      "execution_count": null,
      "outputs": [
        {
          "output_type": "stream",
          "text": [
            " * sqlite://\n",
            "Done.\n",
            "Done.\n"
          ],
          "name": "stdout"
        },
        {
          "output_type": "execute_result",
          "data": {
            "text/html": [
              "<table>\n",
              "    <thead>\n",
              "        <tr>\n",
              "            <th>Artist_Id</th>\n",
              "            <th>Artist_Name</th>\n",
              "            <th>Artist_DOB</th>\n",
              "            <th>Posters_In_Stock</th>\n",
              "        </tr>\n",
              "    </thead>\n",
              "    <tbody>\n",
              "    </tbody>\n",
              "</table>"
            ],
            "text/plain": [
              "[]"
            ]
          },
          "metadata": {
            "tags": []
          },
          "execution_count": 21
        }
      ]
    },
    {
      "cell_type": "code",
      "metadata": {
        "id": "FOWSIAvGZpE-",
        "colab": {
          "base_uri": "https://localhost:8080/",
          "height": 92
        },
        "outputId": "8d9f0b7e-5400-4f20-b89b-aa2afd0b9216"
      },
      "source": [
        "# Example 3\n",
        "# The data type text accepts upto 2,147,483,647 characters\n",
        "# The data type float accepts floating point numbers i.e 183.3 as shown\n",
        "# \n",
        "%%sql\n",
        "CREATE TABLE IF NOT EXISTS Players (\n",
        "    id int,\n",
        "    name text,\n",
        "    age integer,\n",
        "    height float);\n",
        "\n",
        "SELECT * from Players;"
      ],
      "execution_count": null,
      "outputs": [
        {
          "output_type": "stream",
          "text": [
            " * sqlite://\n",
            "Done.\n",
            "Done.\n"
          ],
          "name": "stdout"
        },
        {
          "output_type": "execute_result",
          "data": {
            "text/html": [
              "<table>\n",
              "    <thead>\n",
              "        <tr>\n",
              "            <th>id</th>\n",
              "            <th>name</th>\n",
              "            <th>age</th>\n",
              "            <th>height</th>\n",
              "        </tr>\n",
              "    </thead>\n",
              "    <tbody>\n",
              "    </tbody>\n",
              "</table>"
            ],
            "text/plain": [
              "[]"
            ]
          },
          "metadata": {
            "tags": []
          },
          "execution_count": 22
        }
      ]
    },
    {
      "cell_type": "markdown",
      "metadata": {
        "id": "LMP7zZY2dGuV"
      },
      "source": [
        "### <font color=\"green\"> 1.4 Challenges</font>"
      ]
    },
    {
      "cell_type": "code",
      "metadata": {
        "id": "8g9IjuQDdKP5",
        "colab": {
          "base_uri": "https://localhost:8080/",
          "height": 92
        },
        "outputId": "f867e8f7-8bb8-4001-de31-9435bc9c95f7"
      },
      "source": [
        "# Challenge 1\n",
        "# Let's create a table customer with CustID with datatype Integer, LastName \n",
        "# with datatype character(25), FirstName with datatype Character(20)\n",
        "#\n",
        "%%sql\n",
        "CREATE TABLE IF NOT EXISTS customer(\n",
        "    CustID int,\n",
        "     LastName character(25),\n",
        "     FirstName character(20));\n",
        "SELECT * FROM customer;\n"
      ],
      "execution_count": null,
      "outputs": [
        {
          "output_type": "stream",
          "text": [
            " * sqlite://\n",
            "Done.\n",
            "Done.\n"
          ],
          "name": "stdout"
        },
        {
          "output_type": "execute_result",
          "data": {
            "text/html": [
              "<table>\n",
              "    <thead>\n",
              "        <tr>\n",
              "            <th>CustID</th>\n",
              "            <th>LastName</th>\n",
              "            <th>FirstName</th>\n",
              "        </tr>\n",
              "    </thead>\n",
              "    <tbody>\n",
              "    </tbody>\n",
              "</table>"
            ],
            "text/plain": [
              "[]"
            ]
          },
          "metadata": {
            "tags": []
          },
          "execution_count": 23
        }
      ]
    },
    {
      "cell_type": "code",
      "metadata": {
        "id": "mhbYzTUqgcT6",
        "colab": {
          "base_uri": "https://localhost:8080/"
        },
        "outputId": "2f2158cf-b04a-48ad-922b-1144fd0c3f2c"
      },
      "source": [
        "# Challenge 3\n",
        "# Create a table called sales that stores sales ID, customer ID, name, and address information.\n",
        "# using also the appropriate data types\n",
        "# \n",
        "%%sql\n",
        "CREATE A TABLE IF NOT EXISTs sales(\n",
        "    sales_ID int,\n",
        "    customer_ID int,\n",
        "    name text,\n",
        "    address VARCHAR(15)\n",
        ");\n",
        "SELECT * from sales;\n",
        "\n"
      ],
      "execution_count": null,
      "outputs": [
        {
          "output_type": "stream",
          "text": [
            " * sqlite://\n",
            "(sqlite3.OperationalError) near \"A\": syntax error\n",
            "[SQL: CREATE A TABLE IF NOT EXISTs sales(\n",
            "    sales_ID int,\n",
            "    customer_ID int,\n",
            "    name text,\n",
            "    address VARCHAR(15)\n",
            ");]\n",
            "(Background on this error at: http://sqlalche.me/e/14/e3q8)\n"
          ],
          "name": "stdout"
        }
      ]
    },
    {
      "cell_type": "code",
      "metadata": {
        "id": "dusTkcdWuv3E",
        "colab": {
          "base_uri": "https://localhost:8080/"
        },
        "outputId": "2ac68c44-2f37-424b-a4a6-a615ecf9bcb5"
      },
      "source": [
        "# Challenge 4\n",
        "# Create a table called employees that stores employee number, employee name, \n",
        "# department, and salary information using appropriate data types\n",
        "#\n",
        "%%sql\n",
        "CREATE A TABLE IF NOT EXISTS employees(\n",
        "    name text,\n",
        "    department text,\n",
        "    salary int\n",
        ");\n",
        "SELECT * from artists;"
      ],
      "execution_count": null,
      "outputs": [
        {
          "output_type": "stream",
          "text": [
            " * sqlite://\n",
            "(sqlite3.OperationalError) near \"A\": syntax error\n",
            "[SQL: CREATE A TABLE IF NOT EXISTS employees(\n",
            "    name text,\n",
            "    department text,\n",
            "    salary int);]\n",
            "(Background on this error at: http://sqlalche.me/e/14/e3q8)\n"
          ],
          "name": "stdout"
        }
      ]
    },
    {
      "cell_type": "markdown",
      "metadata": {
        "id": "ASFyzyDc9hth"
      },
      "source": [
        "## 1.5 Specifying Column Default Values"
      ]
    },
    {
      "cell_type": "code",
      "metadata": {
        "id": "mkNyTl37gfeM",
        "colab": {
          "base_uri": "https://localhost:8080/",
          "height": 92
        },
        "outputId": "f610b8ad-4985-4fc6-9d8a-92794dda606b"
      },
      "source": [
        "# Example 1\n",
        "# To specify column default values, let's define a table named artists \n",
        "# which contains three columns artist_id, artist_name and place_of_birth. \n",
        "# - artist_id will be of the type int\n",
        "# - artist_name of the type varchar(60) \n",
        "# - place_of_birth varchar(60) with default 'Unknown'.\n",
        "# NB: Changing the case of our data type definition will not have any effect.\n",
        "#\n",
        "%%sql \n",
        "CREATE TABLE IF NOT EXISTS Artists (\n",
        "    artist_id INT, \n",
        "    artist_name VARCHAR(60), \n",
        "    place_of_birth VARCHAR(60)\n",
        ");\n",
        "SELECT * from artists;\n",
        "\n",
        "\n"
      ],
      "execution_count": null,
      "outputs": [
        {
          "output_type": "stream",
          "text": [
            " * sqlite://\n",
            "Done.\n",
            "Done.\n"
          ],
          "name": "stdout"
        },
        {
          "output_type": "execute_result",
          "data": {
            "text/html": [
              "<table>\n",
              "    <thead>\n",
              "        <tr>\n",
              "            <th>artist_id</th>\n",
              "            <th>artist_name</th>\n",
              "            <th>place_of_birth</th>\n",
              "        </tr>\n",
              "    </thead>\n",
              "    <tbody>\n",
              "    </tbody>\n",
              "</table>"
            ],
            "text/plain": [
              "[]"
            ]
          },
          "metadata": {
            "tags": []
          },
          "execution_count": 12
        }
      ]
    },
    {
      "cell_type": "code",
      "metadata": {
        "id": "_ut68z0BgfW9",
        "colab": {
          "base_uri": "https://localhost:8080/",
          "height": 92
        },
        "outputId": "e890e372-92ae-42f3-c153-f4d36fa2e80c"
      },
      "source": [
        "# Example 2\n",
        "# To specify default values for the fields in a new table TeamMembers,\n",
        "# We do the following as shown below.\n",
        "# \n",
        "%%sql\n",
        "CREATE TABLE IF NOT EXISTS TeamMembers (\n",
        "    id INTEGER PRIMARY KEY,\n",
        "    name TEXT,\n",
        "    age INTEGER DEFAULT 'Unknown',\n",
        "    height REAL\n",
        ");\n",
        "SELECT * from TeamMembers;\n",
        "\n",
        "    "
      ],
      "execution_count": null,
      "outputs": [
        {
          "output_type": "stream",
          "text": [
            " * sqlite://\n",
            "Done.\n",
            "Done.\n"
          ],
          "name": "stdout"
        },
        {
          "output_type": "execute_result",
          "data": {
            "text/html": [
              "<table>\n",
              "    <thead>\n",
              "        <tr>\n",
              "            <th>id</th>\n",
              "            <th>name</th>\n",
              "            <th>age</th>\n",
              "            <th>height</th>\n",
              "        </tr>\n",
              "    </thead>\n",
              "    <tbody>\n",
              "    </tbody>\n",
              "</table>"
            ],
            "text/plain": [
              "[]"
            ]
          },
          "metadata": {
            "tags": []
          },
          "execution_count": 13
        }
      ]
    },
    {
      "cell_type": "markdown",
      "metadata": {
        "id": "Xr_iw9O1gynX"
      },
      "source": [
        "### <font color=\"green\"> 1.5 Challenges</font>"
      ]
    },
    {
      "cell_type": "code",
      "metadata": {
        "id": "H0X577pGgxuY",
        "colab": {
          "base_uri": "https://localhost:8080/",
          "height": 92
        },
        "outputId": "c027aec4-65e1-4f4f-b278-7d2b5151ff15"
      },
      "source": [
        "# Challenge 1\n",
        "# Let's create a new table called latest_players with similar fields to\n",
        "# the already created Players table but specify the default value to unknown\n",
        "#\n",
        "%%sql\n",
        "CREATE TABLE IF NOT EXISTS latest_players(\n",
        "    id INTERGER PRIMARY KEY,\n",
        "    name TEXT,\n",
        "    age INTERGER DAFAULT 'unknown',\n",
        "    height REAL\n",
        ");\n",
        "SELECT * from latest_players;\n"
      ],
      "execution_count": null,
      "outputs": [
        {
          "output_type": "stream",
          "text": [
            " * sqlite://\n",
            "Done.\n",
            "Done.\n"
          ],
          "name": "stdout"
        },
        {
          "output_type": "execute_result",
          "data": {
            "text/html": [
              "<table>\n",
              "    <thead>\n",
              "        <tr>\n",
              "            <th>id</th>\n",
              "            <th>name</th>\n",
              "            <th>age</th>\n",
              "            <th>height</th>\n",
              "        </tr>\n",
              "    </thead>\n",
              "    <tbody>\n",
              "    </tbody>\n",
              "</table>"
            ],
            "text/plain": [
              "[]"
            ]
          },
          "metadata": {
            "tags": []
          },
          "execution_count": 14
        }
      ]
    },
    {
      "cell_type": "code",
      "metadata": {
        "id": "1LEzaO5ggpCt",
        "colab": {
          "base_uri": "https://localhost:8080/",
          "height": 92
        },
        "outputId": "812dedec-92af-47a2-fd0d-3feb12371d77"
      },
      "source": [
        "# Challenge 2\n",
        "# Let's create a new table called restaurants with the fields\n",
        "# - name: string\n",
        "# - description: text \n",
        "# - address: string, default value is unknown\n",
        "# - user_id: integer\n",
        "# - last_orders_at: date\n",
        "# We can perform data type external research if need be\n",
        "#\n",
        "%%sql\n",
        "CREATE TABLE IF NOT EXISTS restaurants(\n",
        "    name STRING,\n",
        "    description TEXT,\n",
        "    address SRTRING DEFAULT 'unknown',\n",
        "    user_id INTERGER,\n",
        "    latest_orders_at DATE\n",
        "\n",
        ");\n",
        "SELECT * from restaurants;\n"
      ],
      "execution_count": null,
      "outputs": [
        {
          "output_type": "stream",
          "text": [
            " * sqlite://\n",
            "Done.\n",
            "Done.\n"
          ],
          "name": "stdout"
        },
        {
          "output_type": "execute_result",
          "data": {
            "text/html": [
              "<table>\n",
              "    <thead>\n",
              "        <tr>\n",
              "            <th>name</th>\n",
              "            <th>description</th>\n",
              "            <th>address</th>\n",
              "            <th>user_id</th>\n",
              "            <th>latest_orders_at</th>\n",
              "        </tr>\n",
              "    </thead>\n",
              "    <tbody>\n",
              "    </tbody>\n",
              "</table>"
            ],
            "text/plain": [
              "[]"
            ]
          },
          "metadata": {
            "tags": []
          },
          "execution_count": 17
        }
      ]
    },
    {
      "cell_type": "markdown",
      "metadata": {
        "id": "fbqK98Ve9qUw"
      },
      "source": [
        "## 1.6 Altering SQL Tables"
      ]
    },
    {
      "cell_type": "code",
      "metadata": {
        "id": "hX5YD-_dhEra"
      },
      "source": [
        "# Example 1: Adding a Column\n",
        "# To add a column Gender to the Classmates table, we do the following, \n",
        "# then preview the table to see the changes\n",
        "#\n",
        "%%sql \n",
        "ALTER TABLE Classmates ADD Gender;\n",
        "\n",
        " \n",
        "SELECT * FROM Classmates;"
      ],
      "execution_count": null,
      "outputs": []
    },
    {
      "cell_type": "code",
      "metadata": {
        "id": "IGZSdFj2hGbP"
      },
      "source": [
        "# Example 2: Deleting a Column\n",
        "# To delete a column Phone in a table above we do the following,\n",
        "# Then fetch records from the table to confirm the changes\n",
        "#\n",
        "%%sql \n",
        "ALTER TABLE Classmates drop column Residence;\n"
      ],
      "execution_count": null,
      "outputs": []
    },
    {
      "cell_type": "code",
      "metadata": {
        "id": "sHLkllxhhH3v"
      },
      "source": [
        "# Example 3\n",
        "# We can change the name of the Classmates table to Schoolmates by doing the following,\n",
        "# Then fetching the records from the table to confirm the changes\n",
        "#\n",
        "%%sql  \n",
        "ALTER TABLE Classmates RENAME TO Schoolmates;\n",
        "\n",
        "SELECT * FROM classmates;"
      ],
      "execution_count": null,
      "outputs": []
    },
    {
      "cell_type": "markdown",
      "metadata": {
        "id": "f20THWRqhJC-"
      },
      "source": [
        "### <font color=\"green\"> 1.6 Challenges</font>"
      ]
    },
    {
      "cell_type": "code",
      "metadata": {
        "id": "6Nrsden-hJ7u",
        "colab": {
          "base_uri": "https://localhost:8080/",
          "height": 92
        },
        "outputId": "06470467-2c9f-4cbe-fe4c-9afb33f57b4f"
      },
      "source": [
        "# Challenge 1\n",
        "# We can add a column DOB with the data type DATE to the TeamMembers table by;\n",
        "# Hint: The data type comes after the column name\n",
        "#\n",
        "%%sql\n",
        "ALTER TABLE TeamMembers ADD DOB date;\n",
        "SELECT * FROM TeamMembers;\n",
        "\n"
      ],
      "execution_count": null,
      "outputs": [
        {
          "output_type": "stream",
          "text": [
            " * sqlite://\n",
            "Done.\n",
            "Done.\n"
          ],
          "name": "stdout"
        },
        {
          "output_type": "execute_result",
          "data": {
            "text/html": [
              "<table>\n",
              "    <thead>\n",
              "        <tr>\n",
              "            <th>id</th>\n",
              "            <th>name</th>\n",
              "            <th>age</th>\n",
              "            <th>height</th>\n",
              "            <th>DOB</th>\n",
              "        </tr>\n",
              "    </thead>\n",
              "    <tbody>\n",
              "    </tbody>\n",
              "</table>"
            ],
            "text/plain": [
              "[]"
            ]
          },
          "metadata": {
            "tags": []
          },
          "execution_count": 23
        }
      ]
    },
    {
      "cell_type": "code",
      "metadata": {
        "id": "2hwkJkSNlIyd",
        "colab": {
          "base_uri": "https://localhost:8080/",
          "height": 157
        },
        "outputId": "45d128c7-50e9-4b83-bba2-49916fa4cf24"
      },
      "source": [
        "# Example 4: Confirmation\n",
        "# Let's check our data type\n",
        "%%sql\n",
        "PRAGMA table_info(TeamMembers);"
      ],
      "execution_count": null,
      "outputs": [
        {
          "output_type": "stream",
          "text": [
            " * sqlite://\n",
            "Done.\n"
          ],
          "name": "stdout"
        },
        {
          "output_type": "execute_result",
          "data": {
            "text/html": [
              "<table>\n",
              "    <thead>\n",
              "        <tr>\n",
              "            <th>cid</th>\n",
              "            <th>name</th>\n",
              "            <th>type</th>\n",
              "            <th>notnull</th>\n",
              "            <th>dflt_value</th>\n",
              "            <th>pk</th>\n",
              "        </tr>\n",
              "    </thead>\n",
              "    <tbody>\n",
              "        <tr>\n",
              "            <td>0</td>\n",
              "            <td>id</td>\n",
              "            <td>INTEGER</td>\n",
              "            <td>0</td>\n",
              "            <td>None</td>\n",
              "            <td>1</td>\n",
              "        </tr>\n",
              "        <tr>\n",
              "            <td>1</td>\n",
              "            <td>name</td>\n",
              "            <td>TEXT</td>\n",
              "            <td>0</td>\n",
              "            <td>None</td>\n",
              "            <td>0</td>\n",
              "        </tr>\n",
              "        <tr>\n",
              "            <td>2</td>\n",
              "            <td>age</td>\n",
              "            <td>INTEGER</td>\n",
              "            <td>0</td>\n",
              "            <td>&#x27;Unknown&#x27;</td>\n",
              "            <td>0</td>\n",
              "        </tr>\n",
              "        <tr>\n",
              "            <td>3</td>\n",
              "            <td>height</td>\n",
              "            <td>REAL</td>\n",
              "            <td>0</td>\n",
              "            <td>None</td>\n",
              "            <td>0</td>\n",
              "        </tr>\n",
              "    </tbody>\n",
              "</table>"
            ],
            "text/plain": [
              "[(0, 'id', 'INTEGER', 0, None, 1),\n",
              " (1, 'name', 'TEXT', 0, None, 0),\n",
              " (2, 'age', 'INTEGER', 0, \"'Unknown'\", 0),\n",
              " (3, 'height', 'REAL', 0, None, 0)]"
            ]
          },
          "metadata": {
            "tags": []
          },
          "execution_count": 20
        }
      ]
    },
    {
      "cell_type": "code",
      "metadata": {
        "id": "iLNLtWBFhLCS",
        "colab": {
          "base_uri": "https://localhost:8080/",
          "height": 92
        },
        "outputId": "9fbed5dc-6c70-46f5-f949-4ca769521d81"
      },
      "source": [
        "# Challenge 2\n",
        "# Let's now add a column STUDIO with the data type TEXT to the Artists table \n",
        "#\n",
        "%%sql\n",
        "ALTER TABLE Artists ADD STUDIO TEXT;\n",
        "SELECT * FROM Artists;\n"
      ],
      "execution_count": null,
      "outputs": [
        {
          "output_type": "stream",
          "text": [
            " * sqlite://\n",
            "Done.\n",
            "Done.\n"
          ],
          "name": "stdout"
        },
        {
          "output_type": "execute_result",
          "data": {
            "text/html": [
              "<table>\n",
              "    <thead>\n",
              "        <tr>\n",
              "            <th>artist_id</th>\n",
              "            <th>artist_name</th>\n",
              "            <th>place_of_birth</th>\n",
              "            <th>STUDIO</th>\n",
              "        </tr>\n",
              "    </thead>\n",
              "    <tbody>\n",
              "    </tbody>\n",
              "</table>"
            ],
            "text/plain": [
              "[]"
            ]
          },
          "metadata": {
            "tags": []
          },
          "execution_count": 24
        }
      ]
    },
    {
      "cell_type": "code",
      "metadata": {
        "id": "16L-Ex_ehKzt",
        "colab": {
          "base_uri": "https://localhost:8080/",
          "height": 92
        },
        "outputId": "87a7ff66-d739-43e2-e498-0b1a95205328"
      },
      "source": [
        "# Challenge 3\n",
        "# We then rename the table Artists to MusicArtists\n",
        "#\n",
        "%%sql\n",
        "ALTER TABLE Artists RENAME TO MusicArtists;\n",
        "SELECT * FROM MusicArtists;\n",
        "\n"
      ],
      "execution_count": null,
      "outputs": [
        {
          "output_type": "stream",
          "text": [
            " * sqlite://\n",
            "Done.\n",
            "Done.\n"
          ],
          "name": "stdout"
        },
        {
          "output_type": "execute_result",
          "data": {
            "text/html": [
              "<table>\n",
              "    <thead>\n",
              "        <tr>\n",
              "            <th>artist_id</th>\n",
              "            <th>artist_name</th>\n",
              "            <th>place_of_birth</th>\n",
              "            <th>STUDIO</th>\n",
              "        </tr>\n",
              "    </thead>\n",
              "    <tbody>\n",
              "    </tbody>\n",
              "</table>"
            ],
            "text/plain": [
              "[]"
            ]
          },
          "metadata": {
            "tags": []
          },
          "execution_count": 27
        }
      ]
    },
    {
      "cell_type": "markdown",
      "metadata": {
        "id": "N5323tiC9u5B"
      },
      "source": [
        "## 1.7 Dropping SQL Tables"
      ]
    },
    {
      "cell_type": "markdown",
      "metadata": {
        "id": "Lyy1XQCy_rIm"
      },
      "source": [
        "### 1.71 Truncating a Table\n"
      ]
    },
    {
      "cell_type": "code",
      "metadata": {
        "id": "EF5WdMH1hj-8"
      },
      "source": [
        "# Example 1\n",
        "# We may have two options while thinking about dropping (deleting) database tables. \n",
        "# These are truncating or dropping.\n",
        "# We can use the TRUNCATE TABLE statement to delete the data inside \n",
        "# our table as shown below. Do note that this command retains the table itself.\n",
        "# We will get to confirm the effect of using this command later when we get \n",
        "# to insert data to the table.\n",
        "#\n",
        "TRUNCATE TABLE Classmates;\n"
      ],
      "execution_count": null,
      "outputs": []
    },
    {
      "cell_type": "markdown",
      "metadata": {
        "id": "018guVdKDwnu"
      },
      "source": [
        "### 1.72 Dropping a Table"
      ]
    },
    {
      "cell_type": "code",
      "metadata": {
        "id": "IBP2xlN4Dz8H"
      },
      "source": [
        "# Example 1\n",
        "# We can drop our table by using the DROP TABLE statement as shown below\n",
        "#\n",
        "%sql DROP TABLE Classmates;"
      ],
      "execution_count": null,
      "outputs": []
    },
    {
      "cell_type": "markdown",
      "metadata": {
        "id": "hK3Aff9bhkkE"
      },
      "source": [
        "### <font color=\"green\"> 1.7 Challenges</font>"
      ]
    },
    {
      "cell_type": "code",
      "metadata": {
        "id": "OhTHowBAhmF_",
        "cellView": "both",
        "colab": {
          "base_uri": "https://localhost:8080/"
        },
        "outputId": "d36b424e-9608-4146-fce3-5f304fe75467"
      },
      "source": [
        "# Challenge 1\n",
        "# Lets drop the Players table from our database\n",
        "#\n",
        "%%sql \n",
        "DROP TABLE Players;\n",
        "\n"
      ],
      "execution_count": null,
      "outputs": [
        {
          "output_type": "stream",
          "text": [
            " * sqlite://\n",
            "(sqlite3.OperationalError) no such table: Players\n",
            "[SQL: DROP TABLE Players;]\n",
            "(Background on this error at: http://sqlalche.me/e/14/e3q8)\n"
          ],
          "name": "stdout"
        }
      ]
    },
    {
      "cell_type": "code",
      "metadata": {
        "id": "TupkeQYohmc9",
        "colab": {
          "base_uri": "https://localhost:8080/",
          "height": 131
        },
        "outputId": "473aa830-62bd-4120-d026-1d6ee1cbf001"
      },
      "source": [
        "# Challenge 2\n",
        "# Lets drop the Customers table from our database \n",
        "#\n",
        "%sql\n",
        "DROP TABLE customer;\n",
        "SELECT * FROM customer;\n",
        "\n"
      ],
      "execution_count": null,
      "outputs": [
        {
          "output_type": "error",
          "ename": "SyntaxError",
          "evalue": "ignored",
          "traceback": [
            "\u001b[0;36m  File \u001b[0;32m\"<ipython-input-39-3bd0baab6f52>\"\u001b[0;36m, line \u001b[0;32m5\u001b[0m\n\u001b[0;31m    DROP TABLE customer;\u001b[0m\n\u001b[0m             ^\u001b[0m\n\u001b[0;31mSyntaxError\u001b[0m\u001b[0;31m:\u001b[0m invalid syntax\n"
          ]
        }
      ]
    },
    {
      "cell_type": "code",
      "metadata": {
        "id": "5JA8Kr56hmPr",
        "colab": {
          "base_uri": "https://localhost:8080/"
        },
        "outputId": "c71526d3-bcd0-4b05-a34e-2facb32825ae"
      },
      "source": [
        "# Challenge 3\n",
        "# And finally truncate and drop our Artists table from our database\n",
        "#\n",
        "%%sql \n",
        "DROP TABLE Artists;\n",
        "SELECT FROM Artists;\n"
      ],
      "execution_count": null,
      "outputs": [
        {
          "output_type": "stream",
          "text": [
            " * sqlite://\n",
            "(sqlite3.OperationalError) no such table: Artists\n",
            "[SQL: DROP TABLE Artists;]\n",
            "(Background on this error at: http://sqlalche.me/e/14/e3q8)\n"
          ],
          "name": "stdout"
        }
      ]
    }
  ]
}