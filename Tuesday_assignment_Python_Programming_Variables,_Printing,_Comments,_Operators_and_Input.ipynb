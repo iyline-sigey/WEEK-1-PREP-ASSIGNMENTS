{
  "nbformat": 4,
  "nbformat_minor": 0,
  "metadata": {
    "colab": {
      "name": "Tuesday assignment- Python Programming: Variables, Printing, Comments, Operators and Input",
      "provenance": [],
      "collapsed_sections": [
        "ouu4WxP3MIgj",
        "Q9nYivGzNDz8",
        "ewLHJRjljHm2",
        "ZCa4gqEhMQeX",
        "9g9cO9kTj7eS",
        "enegx82E43R0",
        "O8SLfCskkHv4",
        "UgmQhU5qeG8x",
        "8MEIfFSclWvn",
        "wCNLWKgJeLJn",
        "eEu2bBRRlo1e"
      ],
      "toc_visible": true
    },
    "kernelspec": {
      "name": "python3",
      "display_name": "Python 3"
    }
  },
  "cells": [
    {
      "cell_type": "markdown",
      "metadata": {
        "id": "yP8LWf2IYcPt"
      },
      "source": [
        "# Variables, Printing, Comments, Operators and Input"
      ]
    },
    {
      "cell_type": "markdown",
      "metadata": {
        "id": "ZJUYY3Kvm4jW"
      },
      "source": [
        "<font color=\"green\">*To start working on this notebook, or any other notebook that we will use in this course, we will need to save our own copy of it. We can do this by clicking File > Save a Copy in Drive. We will then be able to make edits to our own copy of this notebook.*</font>\n",
        "\n",
        "---\n",
        "\n"
      ]
    },
    {
      "cell_type": "markdown",
      "metadata": {
        "id": "ouu4WxP3MIgj"
      },
      "source": [
        "## 1.0 Introduction"
      ]
    },
    {
      "cell_type": "markdown",
      "metadata": {
        "id": "FpRH6APAK3vV"
      },
      "source": [
        "Python is a programming language that is popularly used for data science. In this section we will get to learn the basics of the python programming language. More specifically, we will get to learn about printing, comments, variables operators and Input.\n",
        "\n",
        "---\n",
        "\n",
        "\n",
        "\n",
        "\n",
        "\n"
      ]
    },
    {
      "cell_type": "markdown",
      "metadata": {
        "id": "7LQwxB9bVRP1"
      },
      "source": [
        "Let's now swiftly begin to write code. Code is a set of instructions that a programmer writes so as to perform a particular task. Code can be written to perform calculations, move a robotic arm, perform analysis etc. During the course of the Moringa Data Science program, we will write alot of code and and this will help you become more confortable at solving a diverse of data science problems. \n",
        "\n",
        "We will also be using Colaboratory, which is an environment that we can use to run our code. This will eliminate the need to spend alot of time installing and configuring your environment and help you spend more time on learning how to write effective code.\n",
        "\n",
        "The page that we are currently using is called a notebook, while the different sections of this notebook are called cells. The cells can be either code or text. In order to start using a ready created notebook just like this one, we will have to first save a copy of this note book on drive i.e. visit File > Save a copy in Drive. This will allow us to have our own copy of the notebook and update any changes we want for example adding code. \n",
        "\n",
        "In order to run our code as shown in the example below, we can drag our mouse to the left of the cell and click on the circular icon with a triangle pointing to the right. Alternatively, we can click inside the cell which we want to run, then press shift+return buttons on our keyboard, all at the same time.\n",
        "\n"
      ]
    },
    {
      "cell_type": "code",
      "metadata": {
        "id": "STRIQLywyUzJ",
        "colab": {
          "base_uri": "https://localhost:8080/"
        },
        "outputId": "7a39396e-1df8-4723-bcf8-8114d5189b22"
      },
      "source": [
        "# Example 1\n",
        "# \n",
        "print(\"I just ran my first python code\")"
      ],
      "execution_count": null,
      "outputs": [
        {
          "output_type": "stream",
          "text": [
            "I just ran my first python code\n"
          ],
          "name": "stdout"
        }
      ]
    },
    {
      "cell_type": "markdown",
      "metadata": {
        "id": "DQXZu9wpDN5E"
      },
      "source": [
        "Don't worry, the first run of the code will take a few seconds to run. Thereafter, the running of our code will be much more faster. As we have also seen, our code is displayed at the bottom of the cell. This section of the cell is called the console and its where the output of our code will always be displayed."
      ]
    },
    {
      "cell_type": "markdown",
      "metadata": {
        "id": "Q9nYivGzNDz8"
      },
      "source": [
        "## 1.1 Printing\n"
      ]
    },
    {
      "cell_type": "markdown",
      "metadata": {
        "id": "K2Y5xqKgKwWF"
      },
      "source": [
        "The second thing that you must have noted in that line of code that we've just ran, is the keyword \"print\". This keyword is meant to print out any text that goes into the following parenthesis. By printing out, we mean outputing our code in the console.  As we continue learning python, we will also come across other keywords that are used to perform different tasks. Such keywords which have two brackets as print() are called functions. In the above example, we used the function print(). We shouldn't now worry about what these functions are as we will learn about them later in the course."
      ]
    },
    {
      "cell_type": "markdown",
      "metadata": {
        "id": "ewLHJRjljHm2"
      },
      "source": [
        "### <font color = 'green'> 1.1 Challenges</font>"
      ]
    },
    {
      "cell_type": "code",
      "metadata": {
        "id": "A9EAzlEUjKDf",
        "colab": {
          "base_uri": "https://localhost:8080/"
        },
        "outputId": "155b3f19-928e-4472-ab0b-968a1a72be85"
      },
      "source": [
        "# Challenge 1:\n",
        "# Let's now print out your name in the console of this cell.\n",
        "# Replace the text \"OUR CODE GOES HERE\" with the code that you will write \n",
        "# and do likewise to the following examples.\n",
        "#\n",
        "\n",
        "print(\"Iyline Sigey\")\n"
      ],
      "execution_count": null,
      "outputs": [
        {
          "output_type": "stream",
          "text": [
            "Iyline Sigey\n"
          ],
          "name": "stdout"
        }
      ]
    },
    {
      "cell_type": "code",
      "metadata": {
        "id": "Ffeem6qVjKar",
        "colab": {
          "base_uri": "https://localhost:8080/"
        },
        "outputId": "80d1fbd5-3934-437a-b83b-7721d9e25835"
      },
      "source": [
        "# Challenge 2:\n",
        "# Let's print \"I am a Moringa Data Science Student\"\n",
        "print(\"I am a moringa data science student\")\n",
        "\n"
      ],
      "execution_count": null,
      "outputs": [
        {
          "output_type": "stream",
          "text": [
            "I am a moringa data science student\n"
          ],
          "name": "stdout"
        }
      ]
    },
    {
      "cell_type": "code",
      "metadata": {
        "id": "B3681apHjKRN",
        "colab": {
          "base_uri": "https://localhost:8080/"
        },
        "outputId": "c2e11ed7-a4be-4743-fcba-bdd7b97c07b8"
      },
      "source": [
        "# Challenge 3:\n",
        "# Print out the sum of 44 and 22 below\n",
        "# NB: We need to see 44 + 22 in our code \n",
        "# \n",
        "\n",
        "print(44+22)\n"
      ],
      "execution_count": null,
      "outputs": [
        {
          "output_type": "stream",
          "text": [
            "66\n"
          ],
          "name": "stdout"
        }
      ]
    },
    {
      "cell_type": "markdown",
      "metadata": {
        "id": "ZCa4gqEhMQeX"
      },
      "source": [
        "## 1.2 Comments "
      ]
    },
    {
      "cell_type": "markdown",
      "metadata": {
        "id": "gnuZm4DJf46i"
      },
      "source": [
        "In this section, we will learn about another key concept of programming - Comments. \n",
        "\n",
        "Programmers and Data Scientists use comments to explain what their code means. These comments are acually pieces of code that do not get translated by the computer. We will use them as helpful messages that we leave within our code. \n",
        "\n",
        "Comments are created by putthing a hash character(#) before the line we would like the computer to ignore. By doing that we would say that we have commented out that line. \n",
        "\n",
        "For example, in the cell below, the first line is the commented out line in the code. It explains what the following code means. "
      ]
    },
    {
      "cell_type": "code",
      "metadata": {
        "id": "xJBU9EQoYcPt",
        "colab": {
          "base_uri": "https://localhost:8080/"
        },
        "outputId": "4857af17-1733-43ed-de52-dba14b00ae44"
      },
      "source": [
        "# Example 1\n",
        "# The code below will print out the statement \"I already love Python\". \n",
        "# Let's press the shortcut shift + return (enter button) at the same time\n",
        "# to run the code in this cell. \n",
        "# \n",
        "print('I already love Python')\n"
      ],
      "execution_count": null,
      "outputs": [
        {
          "output_type": "stream",
          "text": [
            "I already love Python\n"
          ],
          "name": "stdout"
        }
      ]
    },
    {
      "cell_type": "markdown",
      "metadata": {
        "id": "cXhURK-yvBfu"
      },
      "source": [
        "Good! Let's now comment out the code in the following cell and later run the code. By uncommenting we mean removing the last line # character before print."
      ]
    },
    {
      "cell_type": "code",
      "metadata": {
        "id": "ZQj19k6kvLpy",
        "colab": {
          "base_uri": "https://localhost:8080/"
        },
        "outputId": "b5ac724b-128f-43e1-e447-cb5dae7e85eb"
      },
      "source": [
        "# Example 2\n",
        "#\n",
        "print(\"My home is Kenya, all wild and wonderful!\")"
      ],
      "execution_count": null,
      "outputs": [
        {
          "output_type": "stream",
          "text": [
            "My home is Kenya, all wild and wonderful!\n"
          ],
          "name": "stdout"
        }
      ]
    },
    {
      "cell_type": "markdown",
      "metadata": {
        "id": "ai0VXezYyCVl"
      },
      "source": [
        "If we'd like to make multiline comments, we can also use the # character as shown below:"
      ]
    },
    {
      "cell_type": "code",
      "metadata": {
        "id": "9Ap2sfRVyA8s",
        "colab": {
          "base_uri": "https://localhost:8080/"
        },
        "outputId": "aee49854-a6ef-4b76-ad1c-0dcf6d7caad4"
      },
      "source": [
        "# Example 3\n",
        "# The following line of code prints out \n",
        "# \"I have just began my Data science journey\" in the console\n",
        "# \n",
        "print(\"I have just began my data science journey\")"
      ],
      "execution_count": null,
      "outputs": [
        {
          "output_type": "stream",
          "text": [
            "I have just began my data science journey\n"
          ],
          "name": "stdout"
        }
      ]
    },
    {
      "cell_type": "markdown",
      "metadata": {
        "id": "OkccuSH-W-wv"
      },
      "source": [
        ""
      ]
    },
    {
      "cell_type": "markdown",
      "metadata": {
        "id": "9g9cO9kTj7eS"
      },
      "source": [
        "### <font color = 'green'> 1.2 Challenges</font> "
      ]
    },
    {
      "cell_type": "code",
      "metadata": {
        "id": "w5cRLXHUZOql"
      },
      "source": [
        ""
      ],
      "execution_count": null,
      "outputs": []
    },
    {
      "cell_type": "code",
      "metadata": {
        "id": "upcjdSkmWKQN"
      },
      "source": [
        ""
      ],
      "execution_count": null,
      "outputs": []
    },
    {
      "cell_type": "code",
      "metadata": {
        "id": "X6FOU-U5j1_0",
        "colab": {
          "base_uri": "https://localhost:8080/"
        },
        "outputId": "8ed65287-51f5-4aa9-e1cc-028021c8dd2e"
      },
      "source": [
        "# Challenge 1:\n",
        "# We now add multiline comments that explain what happens to a line \n",
        "# that prints out the name of your home town below \n",
        "# \n",
        "#The following line of code prints out the name of my home town\n",
        "print(\"Nairobi\")\n",
        "\n"
      ],
      "execution_count": null,
      "outputs": [
        {
          "output_type": "stream",
          "text": [
            "Nairobi\n"
          ],
          "name": "stdout"
        }
      ]
    },
    {
      "cell_type": "code",
      "metadata": {
        "id": "TUlfErrLj31q",
        "colab": {
          "base_uri": "https://localhost:8080/"
        },
        "outputId": "b988fb81-88ac-4091-cbc2-7924846e7722"
      },
      "source": [
        "# Challenge 2:\n",
        "# Add comments to the program below. Add comments in two lines\n",
        "\n",
        "a = \"Hello Brenda!\"\n",
        "\n",
        "#write a code that prints out\n",
        "#Hello Brenda!\n",
        "a=\"Hello Brenda!\"\n",
        "print(a)"
      ],
      "execution_count": null,
      "outputs": [
        {
          "output_type": "stream",
          "text": [
            "Hello Brenda!\n"
          ],
          "name": "stdout"
        }
      ]
    },
    {
      "cell_type": "code",
      "metadata": {
        "id": "RsAK7Vfmj6Pi",
        "colab": {
          "base_uri": "https://localhost:8080/"
        },
        "outputId": "dea97f2f-b5b3-4da5-ee3f-6157c94dfc92"
      },
      "source": [
        "# Challenge 3:\n",
        "# Run the code below then try to figure out what happens.\n",
        "# Then from your understanding, provide a documentation to the program\n",
        "# NB: By documentation we mean add comments to the program \n",
        "# to help the reader to understand the program.\n",
        "# Hint: Explain each line of the program.\n",
        "#\n",
        "#write a program to display months of the year in a calender\n",
        "#declare a variable to represent all the months\n",
        "months = ['January', 'February', 'March', 'April', 'May', 'June', 'July','August','September','October', 'November','December']\n",
        "#write a function for the program tht displays all the months in the output \n",
        "def showCalender(months):\n",
        "  \n",
        "    for month in months:\n",
        "        print(month)\n",
        "        \n",
        "        \n",
        "showCalender(months)"
      ],
      "execution_count": null,
      "outputs": [
        {
          "output_type": "stream",
          "text": [
            "January\n",
            "February\n",
            "March\n",
            "April\n",
            "May\n",
            "June\n",
            "July\n",
            "August\n",
            "September\n",
            "October\n",
            "November\n",
            "December\n"
          ],
          "name": "stdout"
        }
      ]
    },
    {
      "cell_type": "markdown",
      "metadata": {
        "id": "enegx82E43R0"
      },
      "source": [
        "## 1.3 Variables"
      ]
    },
    {
      "cell_type": "markdown",
      "metadata": {
        "id": "BkeWKmaiVZrw"
      },
      "source": [
        "The next thing we will learn is a variable. This is simply a container that we can use to store a value. This value can be a number, a character, a string (which is just a set of characters), a list (we will learn this, a dictionary - we will also learn this), etc. "
      ]
    },
    {
      "cell_type": "markdown",
      "metadata": {
        "id": "MNf-A-Vu_aPR"
      },
      "source": [
        "In python, we would create a variable and store a value at the same time, just as shown in the following example."
      ]
    },
    {
      "cell_type": "code",
      "metadata": {
        "id": "dnmsWMx8_SUA"
      },
      "source": [
        "# Example 1\n",
        "# We store the value 10 in a variable p. In programming we say that \"we are assigning the value 10 to p\"\n",
        "# Running this cell won't output anything. Why? You can discuss this with your peer. \n",
        "# If you haven't figure it out, then go on to the next example and you'll know why\n",
        "#\n",
        "p = 10"
      ],
      "execution_count": null,
      "outputs": []
    },
    {
      "cell_type": "code",
      "metadata": {
        "id": "4jZQErLZVd_y",
        "colab": {
          "base_uri": "https://localhost:8080/"
        },
        "outputId": "47b721f8-c33e-4b74-f027-98c25c569f5f"
      },
      "source": [
        "# Example 2\n",
        "# So as to create a variable we use the equals sign; =, like in the example below. \n",
        "# This sign is usually regarded to what is called an assignment operator.\n",
        "# How do we say what is happening to 5 and x below? We've learned this in\n",
        "# the previous example.\n",
        "# \n",
        "x = 5\n",
        "\n",
        "# Because we have assigned the value 5 to x, \n",
        "# we now need to print out and see whether x has that value. \n",
        "# Lets print out x below this line using the print() function below\n",
        "#\n",
        "x=5\n",
        "print(x)"
      ],
      "execution_count": null,
      "outputs": [
        {
          "output_type": "stream",
          "text": [
            "5\n"
          ],
          "name": "stdout"
        }
      ]
    },
    {
      "cell_type": "code",
      "metadata": {
        "id": "zitN-ocgVqsF",
        "colab": {
          "base_uri": "https://localhost:8080/"
        },
        "outputId": "7f330a3d-02be-4577-83db-00d769e7df09"
      },
      "source": [
        "# Example 3\n",
        "# Nice, Work now on this challenge: \n",
        "# Create a savings variable with the value 1000 \n",
        "#y=1000\n",
        "\n",
        "# Then print this savings variable below this line;\n",
        "y=1000\n",
        "print(y)\n",
        "\n",
        "\n"
      ],
      "execution_count": null,
      "outputs": [
        {
          "output_type": "stream",
          "text": [
            "1000\n"
          ],
          "name": "stdout"
        }
      ]
    },
    {
      "cell_type": "code",
      "metadata": {
        "id": "Mjj8BXlNYcPx",
        "colab": {
          "base_uri": "https://localhost:8080/"
        },
        "outputId": "e06979a4-a208-4007-fc8d-7c2ccac5a744"
      },
      "source": [
        "# Example 4\n",
        "# Now uncomment the below lines to print a, \n",
        "# then later uncomment b = 5 and later uncomment print(b)\n",
        "# Do note what happens\n",
        "#\n",
        "\n",
        "a = 10\n",
        "print(a)\n",
        "\n",
        "b = 5\n",
        "print(b)"
      ],
      "execution_count": null,
      "outputs": [
        {
          "output_type": "stream",
          "text": [
            "10\n",
            "5\n"
          ],
          "name": "stdout"
        }
      ]
    },
    {
      "cell_type": "markdown",
      "metadata": {
        "id": "O8SLfCskkHv4"
      },
      "source": [
        "### <font color = 'green'>  1.3 Challenges </font>"
      ]
    },
    {
      "cell_type": "code",
      "metadata": {
        "id": "313rKbkAkKcR",
        "colab": {
          "base_uri": "https://localhost:8080/"
        },
        "outputId": "7a127a1d-3e14-40cc-a927-5eb061733ab1"
      },
      "source": [
        "# Challenge 1\n",
        "# Assign the book Harry Potter and the Deathly Hollows to the variable author\n",
        "#\n",
        "author=(\"Harry Potter and the Deathly Hollows\")\n",
        "print(author)\n",
        "\n"
      ],
      "execution_count": null,
      "outputs": [
        {
          "output_type": "stream",
          "text": [
            "Harry Potter and the Deathly Hollows\n"
          ],
          "name": "stdout"
        }
      ]
    },
    {
      "cell_type": "code",
      "metadata": {
        "id": "3PN6Ef_gkK39",
        "colab": {
          "base_uri": "https://localhost:8080/"
        },
        "outputId": "1d703d5d-560a-4567-ea12-4df4a3384ddc"
      },
      "source": [
        "# Challenge 2\n",
        "# Fix the following code the run the cell\n",
        "#\n",
        "einstein=\"7_quote\"\n",
        "print(einstein)\n",
        "\n",
        "\n",
        "\n"
      ],
      "execution_count": null,
      "outputs": [
        {
          "output_type": "stream",
          "text": [
            "7_quote\n"
          ],
          "name": "stdout"
        }
      ]
    },
    {
      "cell_type": "code",
      "metadata": {
        "id": "IUdjEiyAkKpE",
        "colab": {
          "base_uri": "https://localhost:8080/"
        },
        "outputId": "a1b372d1-cfa6-4fda-9298-e4c81ddda094"
      },
      "source": [
        "# Challenge 3\n",
        "# Fix the following code the run the cell\n",
        "#\n",
        "secondnumber=400\n",
        "print(secondnumber)\n"
      ],
      "execution_count": null,
      "outputs": [
        {
          "output_type": "stream",
          "text": [
            "400\n"
          ],
          "name": "stdout"
        }
      ]
    },
    {
      "cell_type": "markdown",
      "metadata": {
        "id": "UgmQhU5qeG8x"
      },
      "source": [
        "## 1.4 Operators"
      ]
    },
    {
      "cell_type": "code",
      "metadata": {
        "id": "Rz2NNvZmYcP0",
        "colab": {
          "base_uri": "https://localhost:8080/"
        },
        "outputId": "1c86313a-84b9-4ce3-bc0d-b1820ac092f1"
      },
      "source": [
        "# Example 1\n",
        "# In this section, we are going to use the variable a and b to perform \n",
        "# some arithmetic operations. Variable values or the variables from the above cell are retained \n",
        "# and can be used with the values that they were assigned to. \n",
        "# We will learn more about this when we run the lines below.\n",
        "# Let's run this cell once then \n",
        "# Uncomment the lines below to see the effect for multiplication, division and substraction \n",
        "#\n",
        "\n",
        "print(a + b)\n",
        "\n",
        "#print(a * b)\n",
        "\n",
        "# print(a / b)\n",
        "\n",
        "# print(a - b)"
      ],
      "execution_count": null,
      "outputs": [
        {
          "output_type": "stream",
          "text": [
            "15\n"
          ],
          "name": "stdout"
        }
      ]
    },
    {
      "cell_type": "code",
      "metadata": {
        "id": "w7UUv925YcP2",
        "colab": {
          "base_uri": "https://localhost:8080/"
        },
        "outputId": "29f6d672-4e2a-409b-e72b-22246359e715"
      },
      "source": [
        "# Example 2\n",
        "# What would happen if we assigned the value of a + b to a. \n",
        "# Then try to come up with the answer in your mind \n",
        "# before uncommenting the line below;\n",
        "# \n",
        "\n",
        "a=5\n",
        "b=5\n",
        "a=a+b\n",
        "print(a)\n"
      ],
      "execution_count": null,
      "outputs": [
        {
          "output_type": "stream",
          "text": [
            "10\n"
          ],
          "name": "stdout"
        }
      ]
    },
    {
      "cell_type": "code",
      "metadata": {
        "id": "yVolQ1lCYcP5"
      },
      "source": [
        "# Example 3\n",
        "# Nice. Now we will introduce a rather unfamiliar operator that we normally use in python.\n",
        "# This operator is called the increment operator \n",
        "# \n",
        "\n",
        "a += b\n",
        "\n",
        "# print(a)\n",
        "\n",
        "# Try using the decrement operator below. The increment operator is -=\n"
      ],
      "execution_count": null,
      "outputs": []
    },
    {
      "cell_type": "markdown",
      "metadata": {
        "id": "VoM4VEWeTxue"
      },
      "source": [
        "As you have seen, python is perfectly suited to do basic calculations. Apart from addition, subtraction, multiplication and division, there is also support for more advanced operations such as:\n",
        "\n",
        "\n",
        "*   Exponentiation:  This operator raises the number to its left to the power of the number to its right. For example 4**2 will give 16.\n",
        "*   Modulo: %. This operator returns the remainder of the division of the number to the left by the number on its right. For example 18 % 7 equals 4."
      ]
    },
    {
      "cell_type": "code",
      "metadata": {
        "id": "s6fPLiHaTJs7",
        "colab": {
          "base_uri": "https://localhost:8080/"
        },
        "outputId": "5f28e283-5484-4152-82eb-00b86b5e12e7"
      },
      "source": [
        "# Example 4\n",
        "# Lets uncomment the lines below to Exponentiation and then \n",
        "#\n",
        "print(18 % 7)\n",
        "print(4 ** 2)\n"
      ],
      "execution_count": null,
      "outputs": [
        {
          "output_type": "stream",
          "text": [
            "4\n",
            "16\n"
          ],
          "name": "stdout"
        }
      ]
    },
    {
      "cell_type": "markdown",
      "metadata": {
        "id": "8MEIfFSclWvn"
      },
      "source": [
        "### <font color = 'green'> 1.4 Challenges </font>"
      ]
    },
    {
      "cell_type": "code",
      "metadata": {
        "id": "AsyhQfiZW6yr"
      },
      "source": [
        ""
      ],
      "execution_count": null,
      "outputs": []
    },
    {
      "cell_type": "code",
      "metadata": {
        "id": "iILThnq6laDQ",
        "colab": {
          "base_uri": "https://localhost:8080/"
        },
        "outputId": "19cd5f36-6b46-4d2c-bd15-8cae05a43c98"
      },
      "source": [
        "# Challenge 1\n",
        "# Three persons have three notes of Ksh.50, Ksh.100 and Ksh.500.\n",
        "# Create three variables; person 1, person 2 and person 3 then \n",
        "# Find out the average of their money and display it below.\n",
        "# \n",
        "person1=50\n",
        "person2=100\n",
        "person3=500\n",
        "average=(person1+person2+person3)\n",
        "print(average)\n"
      ],
      "execution_count": null,
      "outputs": [
        {
          "output_type": "stream",
          "text": [
            "650\n"
          ],
          "name": "stdout"
        }
      ]
    },
    {
      "cell_type": "code",
      "metadata": {
        "id": "P9fCjPn9la7V",
        "colab": {
          "base_uri": "https://localhost:8080/"
        },
        "outputId": "3665d956-af15-4538-de13-43d986b08c01"
      },
      "source": [
        "# Challenge 2\n",
        "# An online shop sells designer jeans and t-shirts. \n",
        "# Each jeans costs Ksh. 4500 and t-shirt costs Ksh. 2500.\n",
        "# Calculate the cost below if you were to buy 3 pairs of jeans and 6 t-shirts\n",
        "# using variables and operators.\n",
        "#\n",
        "jeans=(4500*3)\n",
        "t_shirts=(2500*6)\n",
        "cost=(jeans+t_shirts)\n",
        "print(cost)\n",
        "\n",
        "\n",
        "\n"
      ],
      "execution_count": null,
      "outputs": [
        {
          "output_type": "stream",
          "text": [
            "28500\n"
          ],
          "name": "stdout"
        }
      ]
    },
    {
      "cell_type": "code",
      "metadata": {
        "id": "NIDidtkllawY",
        "colab": {
          "base_uri": "https://localhost:8080/"
        },
        "outputId": "3db1ae42-f2a2-43c1-b361-0d60b6407e84"
      },
      "source": [
        "# Challenge 3\n",
        "# We have Ksh 1000, which you invest with a 10% return each year. \n",
        "# After one year, it's 1000 × 1.1 = 1100 shillings, and after two years \n",
        "# it's 1000 × 1.1 × 1.1 = 121. \n",
        "# Now, write code below to calculate how much money \n",
        "# you would end up with after 7 years.\n",
        "# How much is your Ksh. 1000 worth after 15 years?\n",
        "# ----------\n",
        "# Hint: Instead of calculating with the actual values, you can use variables instead. \n",
        "# The savings variable you've created in the previous exercise represents the Ksh 1000 you started with. \n",
        "# It's up to you to create a new variable to represent 1.1 and then redo the calculations!\n",
        "# ----------\n",
        "\n",
        "# We can recreate the savings variable that we will use below\n",
        "#\n",
        "savings=1000\n",
        "\n",
        "# and create a growth_multiplier variable that is equal to 1.1.\n",
        "\n",
        "growth_multiplier=1.1\n",
        "\n",
        "# Then create a result variable and equal it to the amount of money you saved after 7 years. \n",
        "\n",
        "money_after_7_years=savings*growth_multiplier**7\n",
        "money_after_15_years=savings*growth_multiplier**15\n",
        "print('Total money after 7 years;' ,money_after_7_years)\n",
        "print('Total money after 15 years:' ,money_after_15_years)\n",
        "\n",
        "\n",
        "\n",
        "\n",
        "\n",
        "\n",
        "\n",
        "\n",
        "\n"
      ],
      "execution_count": null,
      "outputs": [
        {
          "output_type": "stream",
          "text": [
            "Total money after 7 years; 1948.7171000000012\n",
            "Total money after 15 years: 4177.248169415656\n"
          ],
          "name": "stdout"
        }
      ]
    },
    {
      "cell_type": "markdown",
      "metadata": {
        "id": "HpNi6raq14c4"
      },
      "source": [
        ""
      ]
    },
    {
      "cell_type": "markdown",
      "metadata": {
        "id": "wCNLWKgJeLJn"
      },
      "source": [
        "## 1.5 Input"
      ]
    },
    {
      "cell_type": "markdown",
      "metadata": {
        "id": "_eXQSUIfZZB5"
      },
      "source": [
        ""
      ]
    },
    {
      "cell_type": "code",
      "metadata": {
        "id": "EMblZLIvW8lh"
      },
      "source": [
        ""
      ],
      "execution_count": null,
      "outputs": []
    },
    {
      "cell_type": "code",
      "metadata": {
        "id": "KFoVX3qxUVX5"
      },
      "source": [
        "# Example 1\n",
        "# The input() function allows for user input as shown\n",
        "# \n",
        "g = input(\"Enter a number: \"\n",
        "print g + 2\n"
      ],
      "execution_count": null,
      "outputs": []
    },
    {
      "cell_type": "code",
      "metadata": {
        "id": "1nq-JtqvXI3h",
        "colab": {
          "base_uri": "https://localhost:8080/"
        },
        "outputId": "d3374df7-b81e-4eb1-e97c-87bee6def175"
      },
      "source": [
        "# Example 2\n",
        "# Lets get the sum of two numbers from a user's input\n",
        "# \n",
        "x = input('Enter the first number: ')\n",
        "y = input('Enter the second number: ')\n",
        "\n",
        "print(x+y)\n",
        "\n",
        "\n"
      ],
      "execution_count": null,
      "outputs": [
        {
          "output_type": "stream",
          "text": [
            "Enter the first number: 100\n",
            "Enter the second number: 10\n",
            "xy\n"
          ],
          "name": "stdout"
        }
      ]
    },
    {
      "cell_type": "code",
      "metadata": {
        "id": "_2nBPR_o3bgY"
      },
      "source": [
        ""
      ],
      "execution_count": null,
      "outputs": []
    },
    {
      "cell_type": "markdown",
      "metadata": {
        "id": "eEu2bBRRlo1e"
      },
      "source": [
        "### <font color = 'green'>  1.5 Challenges </font>"
      ]
    },
    {
      "cell_type": "code",
      "metadata": {
        "id": "RmNOhWeWlyLb",
        "colab": {
          "base_uri": "https://localhost:8080/"
        },
        "outputId": "e87ec68e-fe0f-4023-eb2f-8020266c3cec"
      },
      "source": [
        "# Challenge 1\n",
        "# Many people around the world think about their height in feet and inches \n",
        "# even here in Africa where many countries use the metric system. \n",
        "# Write a program reads the height in metres then converts it to\n",
        "# feet and inches. The program should display the equivalent \n",
        "# height in feet and height.\n",
        "# NB: You can look up the necessary conversion factors on the web.\n",
        "#\n",
        "#enter your height in feet\n",
        "height=input(\"ente\n",
        "\n",
        "\n",
        "\n",
        "\n",
        "\n",
        "\n"
      ],
      "execution_count": null,
      "outputs": [
        {
          "output_type": "stream",
          "text": [
            "enter your height in metres3\n"
          ],
          "name": "stdout"
        }
      ]
    },
    {
      "cell_type": "code",
      "metadata": {
        "id": "EdIZZ53Ml4Jx",
        "colab": {
          "base_uri": "https://localhost:8080/"
        },
        "outputId": "c476d8fb-be0c-49e6-d5e9-515a005a444d"
      },
      "source": [
        "# Challenge 2\n",
        "# Given a certain column of data that has radius, a data scientist would like\n",
        "# to compute the volume the respective cylinder and save the result to a new column.\n",
        "# Thus, write a program that reads the radius of cylinder, along with its height \n",
        "# from the user to calculate the volume in the console.\n",
        "\n",
        "r=float(input(\"Enter radius of the cylinder(cm);\"))  #a code asking the user to input the radius\n",
        "\n",
        "h=float(input(\"Enter the height of the cylinderc(cm):\"))   #a code asking the user to input the height of the cylinder\n",
        "\n",
        "volume=3.14156*r*r*h #a code with the formula of volume of cylinder\n",
        "\n",
        "print(\"volume of cylinder is(cm*3):\",volume)\n",
        "\n",
        "\n",
        "\n",
        "\n",
        "\n"
      ],
      "execution_count": null,
      "outputs": [
        {
          "output_type": "stream",
          "text": [
            "Enter radius of the cylinder(cm);15\n",
            "Enter the height of the cylinderc(cm):25\n",
            "volume of cylinder is(cm*3): 17671.275\n"
          ],
          "name": "stdout"
        }
      ]
    },
    {
      "cell_type": "code",
      "metadata": {
        "id": "EuzTUGQnl4tz",
        "colab": {
          "base_uri": "https://localhost:8080/"
        },
        "outputId": "0f70327d-5b59-44c9-87a3-8c582346ba57"
      },
      "source": [
        "# Challenge 3\n",
        "# While paying for her parking fee of Ksh. 50 , Jane inserts a Note into \n",
        "# the paying machine and gets back her change. \n",
        "# Write a program that reads as input the note greater than Ksh. 200 \n",
        "# and returns change in notes of 100 and 50.\n",
        "# Use the knowledge of variables to printing, comments, operators \n",
        "# and input to print the no of denominations given\n",
        "#next we calculate the change by deducting the deducting the parking feesnfrom the amount being entered\n",
        "\n",
        "parking_fees=50\n",
        "Deposit=input('Deposit (Ksh.):')\n",
        "change=int(Deposit) - parking_fees\n",
        "print('Change (Ksh.): '+str(change))\n",
        "#calculation for denomination\n",
        "print('Notes of 100 is: '+str(int(change/100)))\n",
        "print('Notes of 50 is: '+str (int(change%100)/50))\n",
        "\n",
        "\n",
        "\n"
      ],
      "execution_count": null,
      "outputs": [
        {
          "output_type": "stream",
          "text": [
            "Deposit (Ksh.):1000\n",
            "Change (Ksh.): 950\n",
            "Notes of 100 is: 9\n",
            "Notes of 50 is: 1.0\n"
          ],
          "name": "stdout"
        }
      ]
    }
  ]
}